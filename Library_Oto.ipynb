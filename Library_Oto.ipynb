{
  "cells": [
    {
      "cell_type": "markdown",
      "metadata": {
        "id": "view-in-github",
        "colab_type": "text"
      },
      "source": [
        "<a href=\"https://colab.research.google.com/github/cambulak/GaziCyber_Python/blob/main/Library_Oto.ipynb\" target=\"_parent\"><img src=\"https://colab.research.google.com/assets/colab-badge.svg\" alt=\"Open In Colab\"/></a>"
      ]
    },
    {
      "cell_type": "code",
      "source": [
        "pip install PyQt5"
      ],
      "metadata": {
        "colab": {
          "base_uri": "https://localhost:8080/"
        },
        "id": "OSG9bZteimtq",
        "outputId": "2e11b23c-6bed-486e-bb15-cc2eac08317a"
      },
      "id": "OSG9bZteimtq",
      "execution_count": 2,
      "outputs": [
        {
          "output_type": "stream",
          "name": "stdout",
          "text": [
            "Collecting PyQt5\n",
            "  Downloading PyQt5-5.15.11-cp38-abi3-manylinux_2_17_x86_64.whl.metadata (2.1 kB)\n",
            "Collecting PyQt5-sip<13,>=12.15 (from PyQt5)\n",
            "  Downloading PyQt5_sip-12.17.0-cp311-cp311-manylinux_2_5_x86_64.manylinux1_x86_64.whl.metadata (472 bytes)\n",
            "Collecting PyQt5-Qt5<5.16.0,>=5.15.2 (from PyQt5)\n",
            "  Downloading PyQt5_Qt5-5.15.16-1-py3-none-manylinux2014_x86_64.whl.metadata (536 bytes)\n",
            "Downloading PyQt5-5.15.11-cp38-abi3-manylinux_2_17_x86_64.whl (8.2 MB)\n",
            "\u001b[2K   \u001b[90m━━━━━━━━━━━━━━━━━━━━━━━━━━━━━━━━━━━━━━━━\u001b[0m \u001b[32m8.2/8.2 MB\u001b[0m \u001b[31m50.2 MB/s\u001b[0m eta \u001b[36m0:00:00\u001b[0m\n",
            "\u001b[?25hDownloading PyQt5_Qt5-5.15.16-1-py3-none-manylinux2014_x86_64.whl (61.1 MB)\n",
            "\u001b[2K   \u001b[90m━━━━━━━━━━━━━━━━━━━━━━━━━━━━━━━━━━━━━━━━\u001b[0m \u001b[32m61.1/61.1 MB\u001b[0m \u001b[31m12.8 MB/s\u001b[0m eta \u001b[36m0:00:00\u001b[0m\n",
            "\u001b[?25hDownloading PyQt5_sip-12.17.0-cp311-cp311-manylinux_2_5_x86_64.manylinux1_x86_64.whl (276 kB)\n",
            "\u001b[2K   \u001b[90m━━━━━━━━━━━━━━━━━━━━━━━━━━━━━━━━━━━━━━━━\u001b[0m \u001b[32m276.4/276.4 kB\u001b[0m \u001b[31m18.5 MB/s\u001b[0m eta \u001b[36m0:00:00\u001b[0m\n",
            "\u001b[?25hInstalling collected packages: PyQt5-Qt5, PyQt5-sip, PyQt5\n",
            "Successfully installed PyQt5-5.15.11 PyQt5-Qt5-5.15.16 PyQt5-sip-12.17.0\n"
          ]
        }
      ]
    },
    {
      "metadata": {
        "jupyter": {
          "is_executing": true
        },
        "id": "8317a803722bf6ae"
      },
      "cell_type": "code",
      "source": [
        "import sys\n",
        "from PyQt5.QtWidgets import QApplication, QWidget, QVBoxLayout, QHBoxLayout, QLabel, QLineEdit, QPushButton, QListWidget\n",
        "class LibraryCatalogApp(QWidget):\n",
        "    def __init__(self):\n",
        "        super().__init__()\n",
        "        self.setWindowTitle('Library Catalog')\n",
        "        self.__init_ui()\n",
        "    def init_ui(self):\n",
        "        self.books = []\n",
        "        self.users = []\n",
        "        self.booklist = QListWidget()\n",
        "        self.userlist = QListWidget()\n",
        "        self.book_title_input = QLineEdit()\n",
        "        self.author_input = QLineEdit()\n",
        "        self.genre_input = QLineEdit()\n",
        "        self.user_name_input = QLineEdit()\n",
        "        self.email_input = QLineEdit()\n",
        "        self.add_book_button = QPushButton('Add Book')\n",
        "        self.add_user_button = QPushButton('Add User')\n",
        "        self.search_keyword_button = QPushButton('Search Keyword')\n",
        "        self.search_button = QPushButton('Search')\n",
        "        self.lend_button = QPushButton('Lend')\n",
        "        self.return_button = QPushButton('Return')\n",
        "        self.init_layout()\n",
        "        self.init_connections()\n",
        "    def init_layout(self):\n",
        "        book_layout = QVBoxLayout()\n",
        "        book_layout.addWidget(QLabel('Book Title:'))\n",
        "        book_layout.addWidget(self.book_title_input)\n",
        "        book_layout.addWidget(QLabel('Author:'))\n",
        "        book_layout.addWidget(self.author_input)\n",
        "        book_layout.addWidget(self.genre_input)\n",
        "        book_layout.addWidget(self.add_book_button)\n",
        "        book_layout.addWidget(self.booklist)\n",
        "        user_layout = QVBoxLayout()\n",
        "        user_layout.addWidget(QLabel('Username:'))\n",
        "        user_layout.addWidget(self.user_name_input)\n",
        "        user_layout.addWidget(QLabel('Email:'))\n",
        "        user_layout.addWidget(self.email_input)\n",
        "        user_layout.addWidget(self.add_user_button)\n",
        "        user_layout.addWidget(self.userlist)\n",
        "        action_layout = QHBoxLayout()\n",
        "        action_layout.addWidget(QLabel('Search Keyword:'))\n",
        "        action_layout.addWidget(self.search_keyword_button)\n",
        "        action_layout.addWidget(self.search_button)\n",
        "        action_layout.addWidget(self.lend_button)\n",
        "        action_layout.addWidget(self.return_button)\n",
        "        main_layout = QVBoxLayout()\n",
        "        main_layout.addLayout(book_layout)\n",
        "        main_layout.addLayout(user_layout)\n",
        "        main_layout.addLayout(action_layout)\n",
        "        self.setLayout(main_layout)\n",
        "    def init_connections(self):\n",
        "        self.add_book_button.clicked.connect(self.add_book)\n",
        "        self.add_user_button.clicked.connect(self.add_user)\n",
        "        self.search_button.clicked.connect(self.search)\n",
        "        self.lend_button.clicked.connect(self.lend)\n",
        "        self.return_button.clicked.connect(self.return_book)\n",
        "    def add_book(self):\n",
        "        title = self.book_title_input.text()\n",
        "        author = self.author_input.text()\n",
        "        genre = self.genre_input.text()\n",
        "        if title and author and genre:\n",
        "            book = Book(len(selfbook) + 1, title, author, genre)\n",
        "            self.books.append(book)\n",
        "            self.book_list.addItem(f'{book.title} by {book.author}')\n",
        "            self.book_title_input.clear()\n",
        "            self.author_input.clear()\n",
        "            self.genre_input.clear()\n",
        "    def add_user(self):\n",
        "        name = self.user_name_input.text()\n",
        "        email = self.email_input.text()\n",
        "        if name and email:\n",
        "            user = User(len(self.users) + 1, name, email)\n",
        "            self.users.append(user)\n",
        "            self.user_list.addItem(f'{user.name} ({user.email})')\n",
        "            self.user_name_input.clear()\n",
        "            self.email_input.clear()\n",
        "    def search_catalog(self):\n",
        "        keyword = self.search_keyword_input.text().lower()\n",
        "        self.book_list.clear()\n",
        "        for book in self.books:\n",
        "            if keyword in book.title.lower() or keyword in book.author.lower():\n",
        "                self.book_list.addItem(f'{book.title} by {book.author}')\n",
        "    def lend_book(self):\n",
        "        selected_book = self.book_list.currentItem()\n",
        "        if selected_book:\n",
        "           book_id = int(selected_book.text().split()[0])\n",
        "           user_id = len(self.users) + 1\n",
        "           for book in self.books:\n",
        "               if book.book_id == book_id:\n",
        "                   if book.is_available:\n",
        "                       book.is_available = False\n",
        "                       self.book_list.clear()\n",
        "                       for book in self.books:\n",
        "                           if book.is_available:\n",
        "                               self.book_list.addItem(f'{book.title} by {book.author}')\n",
        "                               print(f'Book {book.title} is lend to user {user_id}')\n",
        "                           else:\n",
        "                               print(f'Book {book_title} is not available at the moment.')\n",
        "                           break\n",
        "    def return_book(self):\n",
        "        selected_book = self.book_list.currentItem()\n",
        "        if selected_book:\n",
        "            book_id = int(selected_book.text().split()[0])\n",
        "            for book in self.books:\n",
        "                if book.book_id == book_id:\n",
        "                    book.is_available = True\n",
        "                    self.book_list.clear()\n",
        "                    for book in self.books:\n",
        "                        if book.is_available:\n",
        "                                self.book_list.addItem(f'{book.title} by {book.author}')\n",
        "                                print(f'Book {book.title} is returned.')\n",
        "                                break\n",
        "if __name__ == '__main__':\n",
        "    app = QApplication(sys.argv)\n",
        "    catalog_app = LibraryCatalogApp()\n",
        "    catalog_app.show()\n",
        "    sys.exit(app.exec_())"
      ],
      "id": "8317a803722bf6ae",
      "outputs": [],
      "execution_count": null
    }
  ],
  "metadata": {
    "colab": {
      "provenance": [],
      "include_colab_link": true
    },
    "language_info": {
      "name": "python"
    },
    "kernelspec": {
      "name": "python3",
      "display_name": "Python 3"
    }
  },
  "nbformat": 4,
  "nbformat_minor": 5
}