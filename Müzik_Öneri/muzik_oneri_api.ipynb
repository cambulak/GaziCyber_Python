{
 "cells": [
  {
   "cell_type": "code",
   "execution_count": 1,
   "id": "8abacc3f",
   "metadata": {},
   "outputs": [
    {
     "name": "stdout",
     "output_type": "stream",
     "text": [
      "Gemini API başarıyla yapılandırıldı.\n"
     ]
    },
    {
     "ename": "SystemExit",
     "evalue": "0",
     "output_type": "error",
     "traceback": [
      "An exception has occurred, use %tb to see the full traceback.\n",
      "\u001b[1;31mSystemExit\u001b[0m\u001b[1;31m:\u001b[0m 0\n"
     ]
    },
    {
     "name": "stderr",
     "output_type": "stream",
     "text": [
      "c:\\Python35\\anaconda\\Lib\\site-packages\\IPython\\core\\interactiveshell.py:3585: UserWarning: To exit: use 'exit', 'quit', or Ctrl-D.\n",
      "  warn(\"To exit: use 'exit', 'quit', or Ctrl-D.\", stacklevel=1)\n"
     ]
    }
   ],
   "source": [
    "import sys\n",
    "import google.generativeai as genai\n",
    "from PyQt5.QtWidgets import (QApplication, QWidget, QLabel, QLineEdit,\n",
    "                             QPushButton, QTextEdit, QVBoxLayout)\n",
    "\n",
    "# --- Gemini API Yapılandırması ---\n",
    "API_KEY = \"AI\"\n",
    "\n",
    "try:\n",
    "    genai.configure(api_key=API_KEY)\n",
    "    model = genai.GenerativeModel('gemini-2.0-flash')\n",
    "    print(\"Gemini API başarıyla yapılandırıldı.\")\n",
    "except Exception as e:\n",
    "    print(f\"API Yapılandırma Hatası: {e}\")\n",
    "    model = None\n",
    "\n",
    "# --- Ana Uygulama Penceresi ---\n",
    "class MusicRecommenderApp(QWidget):\n",
    "    def __init__(self):\n",
    "        super().__init__()\n",
    "        self.setWindowTitle('Duyguya Göre Müzik Önerici')\n",
    "        self.initUI()\n",
    "\n",
    "    def initUI(self):\n",
    "        # Arayüz Elemanları (Widget'lar)\n",
    "        self.question_label = QLabel('Nasıl hissediyorsun?') # Soru etiketi\n",
    "        self.feeling_input = QLineEdit() # Kullanıcının cevabını gireceği tek satırlık alan\n",
    "        self.suggest_button = QPushButton('Müzik Öner') # Öneri isteme düğmesi\n",
    "        self.result_output = QTextEdit() # Sonucun gösterileceği çok satırlı alan\n",
    "        self.result_output.setReadOnly(True) # Sonuç alanını sadece okunabilir yapalım\n",
    "\n",
    "        # Düzen (Layout) - Elemanları alt alta sıralar\n",
    "        layout = QVBoxLayout()\n",
    "        layout.addWidget(self.question_label)\n",
    "        layout.addWidget(self.feeling_input)\n",
    "        layout.addWidget(self.suggest_button)\n",
    "        layout.addWidget(self.result_output)\n",
    "\n",
    "        self.setLayout(layout) # Pencerenin düzenini ayarla\n",
    "\n",
    "        # Düğmeye Tıklama Olayı Bağlantısı\n",
    "        # suggest_button'a tıklandığında self.get_recommendation fonksiyonu çalışacak\n",
    "        self.suggest_button.clicked.connect(self.get_recommendation)\n",
    "\n",
    "    # --- Müzik Önerisi Alma Fonksiyonu ---\n",
    "    def get_recommendation(self):\n",
    "        user_feeling = self.feeling_input.text() # Giriş alanındaki metni al\n",
    "\n",
    "        if not user_feeling: # Eğer kullanıcı bir şey yazmadıysa\n",
    "            self.result_output.setText(\"Lütfen nasıl hissettiğini yazar mısın?\")\n",
    "            return # Fonksiyondan çık\n",
    "\n",
    "        if model is None: # Eğer API yapılandırması başarısız olduysa\n",
    "             self.result_output.setText(\"API bağlantısı kurulamadı. Lütfen API anahtarını kontrol edin.\")\n",
    "             return\n",
    "\n",
    "        prompt = f\"Kendimi şöyle hissediyorum:'{user_feeling}'. Bu duygu durumuna uygun olabilecek 1-2 şarkı önerir misin? Türkçe olsun.\"\n",
    "\n",
    "        try:\n",
    "            # API'ye isteği gönder ve cevabı al\n",
    "            print(f\"API'ye gönderilen prompt: {prompt}\") # Konsola ne gönderildiğini yazdıralım (hata ayıklama için)\n",
    "            response = model.generate_content(prompt)\n",
    "            recommendation = response.text # API'den gelen metin cevabı\n",
    "\n",
    "            print(f\"API'den gelen cevap: {recommendation}\") # Konsola ne geldiğini yazdıralım\n",
    "            self.result_output.setText(recommendation) # Sonucu arayüzdeki alana yazdır\n",
    "\n",
    "        except Exception as e:\n",
    "            print(f\"API İsteği Hatası: {e}\")\n",
    "            self.result_output.setText(f\"Müzik önerisi alınırken bir hata oluştu: {e}\")\n",
    "\n",
    "if __name__ == '__main__':\n",
    "    app = QApplication(sys.argv) # PyQt uygulamasını başlat\n",
    "    window = MusicRecommenderApp() # Ana penceremizi oluştur\n",
    "    window.show() # Pencereyi göster\n",
    "    sys.exit(app.exec_()) # Uygulama döngüsünü başlat (kapatılana kadar çalışır)"
   ]
  },
  {
   "cell_type": "code",
   "execution_count": null,
   "id": "cc5ce42f",
   "metadata": {},
   "outputs": [],
   "source": []
  },
  {
   "cell_type": "code",
   "execution_count": null,
   "id": "4da3af60",
   "metadata": {},
   "outputs": [],
   "source": [
    "pip install google-generativeai"
   ]
  }
 ],
 "metadata": {
  "kernelspec": {
   "display_name": "Python 3",
   "language": "python",
   "name": "python3"
  },
  "language_info": {
   "codemirror_mode": {
    "name": "ipython",
    "version": 3
   },
   "file_extension": ".py",
   "mimetype": "text/x-python",
   "name": "python",
   "nbconvert_exporter": "python",
   "pygments_lexer": "ipython3",
   "version": "3.12.7"
  }
 },
 "nbformat": 4,
 "nbformat_minor": 5
}
